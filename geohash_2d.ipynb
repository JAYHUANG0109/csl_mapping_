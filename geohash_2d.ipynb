{
 "cells": [
  {
   "cell_type": "code",
   "execution_count": null,
   "metadata": {},
   "outputs": [],
   "source": [
    "import geohash"
   ]
  },
  {
   "cell_type": "code",
   "execution_count": 2,
   "metadata": {},
   "outputs": [],
   "source": [
    "def convert_to_binary(value, span, precision):\n",
    "    binary_str = \"\"\n",
    "    for i in range(precision):\n",
    "        mid = (span[0] + span[1]) / 2\n",
    "        if value >= mid:\n",
    "            binary_str += \"1\"\n",
    "            span[0] = mid\n",
    "        else:\n",
    "            binary_str += \"0\"\n",
    "            span[1] = mid\n",
    "    # print(binary_str)\n",
    "    return binary_str"
   ]
  },
  {
   "cell_type": "code",
   "execution_count": 3,
   "metadata": {},
   "outputs": [],
   "source": [
    "def interweave(str1, str2):\n",
    "    interwoven = \"\"\n",
    "    for i in range(len(str1)):\n",
    "        interwoven += str1[i] + str2[i]\n",
    "    return interwoven"
   ]
  },
  {
   "cell_type": "code",
   "execution_count": 4,
   "metadata": {},
   "outputs": [],
   "source": [
    "def binary_to_base32(binary_str):\n",
    "    base32_alphabet = \"0123456789bcdefghjkmnpqrstuvwxyz\"\n",
    "    base32_str = \"\"\n",
    "    # print(binary_str)\n",
    "    for i in range(0, len(binary_str), 5):\n",
    "        chunk = binary_str[i:i+5]\n",
    "        decimal_val = int(chunk, 2)\n",
    "        base32_str += base32_alphabet[decimal_val]\n",
    "    return base32_str[0:-1]"
   ]
  },
  {
   "cell_type": "code",
   "execution_count": 5,
   "metadata": {},
   "outputs": [],
   "source": [
    "def encode_geohash(latitude, longitude, precision):\n",
    "    lat_bin = convert_to_binary(latitude, [-90, 90], 18)\n",
    "    lon_bin = convert_to_binary(longitude, [-180, 180], 18)\n",
    "    \n",
    "    interwoven_bin = interweave(lon_bin, lat_bin)\n",
    "    \n",
    "    geohash = binary_to_base32(interwoven_bin)\n",
    "    \n",
    "    return geohash[:precision]"
   ]
  },
  {
   "cell_type": "code",
   "execution_count": 8,
   "metadata": {},
   "outputs": [
    {
     "name": "stdout",
     "output_type": "stream",
     "text": [
      "wsqqmny\n"
     ]
    }
   ],
   "source": [
    "25.042920559576547, 121.51768370394866\n",
    "print(encode_geohash(25.042920559576547, 121.51768370394866, 15))"
   ]
  },
  {
   "cell_type": "code",
   "execution_count": 7,
   "metadata": {},
   "outputs": [],
   "source": [
    "# geohash_code = geohash.encode(25.042920559576547, 121.51768370394866, precision=7)\n",
    "# print(geohash_code)"
   ]
  }
 ],
 "metadata": {
  "kernelspec": {
   "display_name": ".venv",
   "language": "python",
   "name": "python3"
  },
  "language_info": {
   "codemirror_mode": {
    "name": "ipython",
    "version": 3
   },
   "file_extension": ".py",
   "mimetype": "text/x-python",
   "name": "python",
   "nbconvert_exporter": "python",
   "pygments_lexer": "ipython3",
   "version": "3.9.6"
  }
 },
 "nbformat": 4,
 "nbformat_minor": 2
}
